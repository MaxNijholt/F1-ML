{
 "cells": [
  {
   "cell_type": "code",
   "execution_count": 1,
   "metadata": {
    "collapsed": true
   },
   "outputs": [],
   "source": [
    "import pandas as pd\n",
    "import numpy as np\n",
    "\n",
    "import matplotlib.pyplot as plt\n",
    "%matplotlib inline"
   ]
  },
  {
   "cell_type": "code",
   "execution_count": 24,
   "metadata": {
    "collapsed": true
   },
   "outputs": [],
   "source": [
    "encoding = 'cp1252'"
   ]
  },
  {
   "cell_type": "code",
   "execution_count": 18,
   "metadata": {
    "scrolled": true
   },
   "outputs": [],
   "source": [
    "circuits = pd.read_csv('circuits.csv', encoding = 'cp1252')"
   ]
  },
  {
   "cell_type": "code",
   "execution_count": 25,
   "metadata": {},
   "outputs": [],
   "source": [
    "races = pd.read_csv('races.csv', encoding = encoding)"
   ]
  },
  {
   "cell_type": "code",
   "execution_count": 22,
   "metadata": {},
   "outputs": [
    {
     "data": {
      "text/plain": [
       "USA             11\n",
       "France           7\n",
       "Spain            6\n",
       "UK               4\n",
       "Canada           3\n",
       "Belgium          3\n",
       "Portugal         3\n",
       "Italy            3\n",
       "Germany          3\n",
       "Japan            3\n",
       "Austria          3\n",
       "Australia        2\n",
       "Brazil           2\n",
       "South Africa     2\n",
       "Morocco          1\n",
       "Bahrain          1\n",
       "Turkey           1\n",
       "Switzerland      1\n",
       "India            1\n",
       "Hungary          1\n",
       "Singapore        1\n",
       "China            1\n",
       "UAE              1\n",
       "Azerbaijan       1\n",
       "Mexico           1\n",
       "Sweden           1\n",
       "Malaysia         1\n",
       "Russia           1\n",
       "Monaco           1\n",
       "Korea            1\n",
       "Argentina        1\n",
       "Netherlands      1\n",
       "Name: country, dtype: int64"
      ]
     },
     "execution_count": 22,
     "metadata": {},
     "output_type": "execute_result"
    }
   ],
   "source": [
    "circuits.country.value_counts()\n"
   ]
  },
  {
   "cell_type": "code",
   "execution_count": 31,
   "metadata": {},
   "outputs": [
    {
     "data": {
      "text/plain": [
       "array([ 1,  2,  3,  4,  5,  6,  7,  8,  9, 10, 11, 12, 13, 14, 15, 16, 17,\n",
       "       18, 19, 20, 21, 22, 23, 24, 25, 26, 27, 28, 29, 30, 31, 32, 33, 34,\n",
       "       35, 36, 37, 38, 39, 40, 41, 42, 43, 44, 45, 46, 47, 48, 49, 50, 51,\n",
       "       52, 53, 54, 55, 56, 57, 58, 59, 60, 61, 62, 63, 64, 65, 66, 67, 68,\n",
       "       69, 70, 71, 73], dtype=int64)"
      ]
     },
     "execution_count": 31,
     "metadata": {},
     "output_type": "execute_result"
    }
   ],
   "source": [
    "races.circuitId.value_counts()\n",
    "race_id = races.circuitId.unique()\n",
    "race_id.sort()\n",
    "race_id"
   ]
  },
  {
   "cell_type": "code",
   "execution_count": 35,
   "metadata": {},
   "outputs": [
    {
     "data": {
      "text/plain": [
       "circuitId                                                    72\n",
       "circuitRef                                        port_imperial\n",
       "name                               Port Imperial Street Circuit\n",
       "location                                             New Jersey\n",
       "country                                                     USA\n",
       "lat                                                     40.7769\n",
       "lng                                                    -74.0111\n",
       "alt                                                         NaN\n",
       "url           http://en.wikipedia.org/wiki/Port_Imperial_Str...\n",
       "Name: 71, dtype: object"
      ]
     },
     "execution_count": 35,
     "metadata": {},
     "output_type": "execute_result"
    }
   ],
   "source": [
    "circuits.iloc[71]"
   ]
  },
  {
   "cell_type": "code",
   "execution_count": 39,
   "metadata": {},
   "outputs": [],
   "source": [
    "race_circuits = pd.merge(circuits, races, on = \"circuitId\")"
   ]
  },
  {
   "cell_type": "code",
   "execution_count": 41,
   "metadata": {
    "scrolled": true
   },
   "outputs": [
    {
     "data": {
      "text/plain": [
       "Italy           96\n",
       "Germany         77\n",
       "UK              72\n",
       "USA             69\n",
       "Monaco          65\n",
       "Belgium         63\n",
       "France          60\n",
       "Spain           55\n",
       "Canada          49\n",
       "Brazil          46\n",
       "Japan           36\n",
       "Australia       34\n",
       "Hungary         33\n",
       "Austria         31\n",
       "Netherlands     30\n",
       "South Africa    23\n",
       "Argentina       20\n",
       "Mexico          19\n",
       "Malaysia        19\n",
       "Portugal        16\n",
       "China           15\n",
       "Bahrain         14\n",
       "Singapore       11\n",
       "UAE             10\n",
       "Turkey           7\n",
       "Sweden           6\n",
       "Russia           5\n",
       "Switzerland      5\n",
       "Korea            4\n",
       "India            3\n",
       "Azerbaijan       3\n",
       "Morocco          1\n",
       "Name: country, dtype: int64"
      ]
     },
     "execution_count": 41,
     "metadata": {},
     "output_type": "execute_result"
    }
   ],
   "source": [
    "race_circuits.country.value_counts()"
   ]
  },
  {
   "cell_type": "code",
   "execution_count": 44,
   "metadata": {},
   "outputs": [
    {
     "ename": "NameError",
     "evalue": "name 'bar' is not defined",
     "output_type": "error",
     "traceback": [
      "\u001b[1;31m---------------------------------------------------------------------------\u001b[0m",
      "\u001b[1;31mNameError\u001b[0m                                 Traceback (most recent call last)",
      "\u001b[1;32m<ipython-input-44-ee401b789324>\u001b[0m in \u001b[0;36m<module>\u001b[1;34m()\u001b[0m\n\u001b[1;32m----> 1\u001b[1;33m \u001b[0mbar\u001b[0m\u001b[1;33m(\u001b[0m\u001b[0mdata\u001b[0m \u001b[1;33m=\u001b[0m \u001b[1;34m\"race_circuits.country\"\u001b[0m\u001b[1;33m)\u001b[0m\u001b[1;33m\u001b[0m\u001b[0m\n\u001b[0m",
      "\u001b[1;31mNameError\u001b[0m: name 'bar' is not defined"
     ]
    }
   ],
   "source": [
    "bar(data = \"race_circuits.country\")"
   ]
  }
 ],
 "metadata": {
  "kernelspec": {
   "display_name": "Python 3",
   "language": "python",
   "name": "python3"
  },
  "language_info": {
   "codemirror_mode": {
    "name": "ipython",
    "version": 3
   },
   "file_extension": ".py",
   "mimetype": "text/x-python",
   "name": "python",
   "nbconvert_exporter": "python",
   "pygments_lexer": "ipython3",
   "version": "3.6.1"
  }
 },
 "nbformat": 4,
 "nbformat_minor": 2
}
